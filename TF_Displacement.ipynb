{
  "nbformat": 4,
  "nbformat_minor": 0,
  "metadata": {
    "colab": {
      "name": "TF_Displacement",
      "provenance": [],
      "collapsed_sections": [
        "W7uz0wDYAGZk",
        "fSCYdsJQ_jzu",
        "zTUhUqL8_oFc",
        "qphZ2NmaOs6Z",
        "DAE5MGygPmag"
      ],
      "authorship_tag": "ABX9TyNBgQhkjovFplAciwOWk0pk",
      "include_colab_link": true
    },
    "kernelspec": {
      "name": "python3",
      "display_name": "Python 3"
    },
    "accelerator": "GPU",
    "widgets": {
      "application/vnd.jupyter.widget-state+json": {
        "83a9123462e24657ac6174b6691a31cb": {
          "model_module": "@jupyter-widgets/controls",
          "model_name": "FileUploadModel",
          "model_module_version": "1.5.0",
          "state": {
            "_view_name": "FileUploadView",
            "_counter": 1,
            "style": "IPY_MODEL_d65abcb5a9a54360bf66b3a9236f7d85",
            "_dom_classes": [],
            "description": "Upload",
            "multiple": false,
            "_model_name": "FileUploadModel",
            "data": [
              null
            ],
            "button_style": "",
            "_view_module": "@jupyter-widgets/controls",
            "_model_module_version": "1.5.0",
            "accept": ".json",
            "_view_count": null,
            "disabled": false,
            "_view_module_version": "1.5.0",
            "error": "",
            "description_tooltip": null,
            "metadata": [
              {
                "name": "service_key.json",
                "type": "application/json",
                "size": 2343,
                "lastModified": 1591341804396
              }
            ],
            "_model_module": "@jupyter-widgets/controls",
            "layout": "IPY_MODEL_0d864b0e184c4c58a005b51aae3906ce",
            "icon": "upload"
          }
        },
        "d65abcb5a9a54360bf66b3a9236f7d85": {
          "model_module": "@jupyter-widgets/controls",
          "model_name": "ButtonStyleModel",
          "model_module_version": "1.5.0",
          "state": {
            "_view_name": "StyleView",
            "_model_name": "ButtonStyleModel",
            "_view_module": "@jupyter-widgets/base",
            "_model_module_version": "1.5.0",
            "_view_count": null,
            "button_color": null,
            "font_weight": "",
            "_view_module_version": "1.2.0",
            "_model_module": "@jupyter-widgets/controls"
          }
        },
        "0d864b0e184c4c58a005b51aae3906ce": {
          "model_module": "@jupyter-widgets/base",
          "model_name": "LayoutModel",
          "model_module_version": "1.2.0",
          "state": {
            "_view_name": "LayoutView",
            "grid_template_rows": null,
            "right": null,
            "justify_content": null,
            "_view_module": "@jupyter-widgets/base",
            "overflow": null,
            "_model_module_version": "1.2.0",
            "_view_count": null,
            "flex_flow": null,
            "width": null,
            "min_width": null,
            "border": null,
            "align_items": null,
            "bottom": null,
            "_model_module": "@jupyter-widgets/base",
            "top": null,
            "grid_column": null,
            "overflow_y": null,
            "overflow_x": null,
            "grid_auto_flow": null,
            "grid_area": null,
            "grid_template_columns": null,
            "flex": null,
            "_model_name": "LayoutModel",
            "justify_items": null,
            "grid_row": null,
            "max_height": null,
            "align_content": null,
            "visibility": null,
            "align_self": null,
            "height": null,
            "min_height": null,
            "padding": null,
            "grid_auto_rows": null,
            "grid_gap": null,
            "max_width": null,
            "order": null,
            "_view_module_version": "1.2.0",
            "grid_template_areas": null,
            "object_position": null,
            "object_fit": null,
            "grid_auto_columns": null,
            "margin": null,
            "display": null,
            "left": null
          }
        },
        "f4df0ea05d2144d39cdda3953a01733a": {
          "model_module": "@jupyter-widgets/controls",
          "model_name": "FileUploadModel",
          "model_module_version": "1.5.0",
          "state": {
            "_view_name": "FileUploadView",
            "_counter": 2,
            "style": "IPY_MODEL_5c5245f1554a4e94a71aa9b350964107",
            "_dom_classes": [],
            "description": "Upload",
            "multiple": false,
            "_model_name": "FileUploadModel",
            "data": [
              null
            ],
            "button_style": "",
            "_view_module": "@jupyter-widgets/controls",
            "_model_module_version": "1.5.0",
            "accept": ".csv",
            "_view_count": null,
            "disabled": false,
            "_view_module_version": "1.5.0",
            "error": "",
            "description_tooltip": null,
            "metadata": [
              {
                "name": "capstone.csv",
                "type": "application/vnd.ms-excel",
                "size": 1463,
                "lastModified": 1593116178481
              }
            ],
            "_model_module": "@jupyter-widgets/controls",
            "layout": "IPY_MODEL_e3db6602a76f40d0a6b259faca10b847",
            "icon": "upload"
          }
        },
        "5c5245f1554a4e94a71aa9b350964107": {
          "model_module": "@jupyter-widgets/controls",
          "model_name": "ButtonStyleModel",
          "model_module_version": "1.5.0",
          "state": {
            "_view_name": "StyleView",
            "_model_name": "ButtonStyleModel",
            "_view_module": "@jupyter-widgets/base",
            "_model_module_version": "1.5.0",
            "_view_count": null,
            "button_color": null,
            "font_weight": "",
            "_view_module_version": "1.2.0",
            "_model_module": "@jupyter-widgets/controls"
          }
        },
        "e3db6602a76f40d0a6b259faca10b847": {
          "model_module": "@jupyter-widgets/base",
          "model_name": "LayoutModel",
          "model_module_version": "1.2.0",
          "state": {
            "_view_name": "LayoutView",
            "grid_template_rows": null,
            "right": null,
            "justify_content": null,
            "_view_module": "@jupyter-widgets/base",
            "overflow": null,
            "_model_module_version": "1.2.0",
            "_view_count": null,
            "flex_flow": null,
            "width": null,
            "min_width": null,
            "border": null,
            "align_items": null,
            "bottom": null,
            "_model_module": "@jupyter-widgets/base",
            "top": null,
            "grid_column": null,
            "overflow_y": null,
            "overflow_x": null,
            "grid_auto_flow": null,
            "grid_area": null,
            "grid_template_columns": null,
            "flex": null,
            "_model_name": "LayoutModel",
            "justify_items": null,
            "grid_row": null,
            "max_height": null,
            "align_content": null,
            "visibility": null,
            "align_self": null,
            "height": null,
            "min_height": null,
            "padding": null,
            "grid_auto_rows": null,
            "grid_gap": null,
            "max_width": null,
            "order": null,
            "_view_module_version": "1.2.0",
            "grid_template_areas": null,
            "object_position": null,
            "object_fit": null,
            "grid_auto_columns": null,
            "margin": null,
            "display": null,
            "left": null
          }
        },
        "d5a60f609ac24a9086abde8955fa3355": {
          "model_module": "@jupyter-widgets/controls",
          "model_name": "FileUploadModel",
          "model_module_version": "1.5.0",
          "state": {
            "_view_name": "FileUploadView",
            "_counter": 1,
            "style": "IPY_MODEL_23b354fdc77a4f3f967e89df3cad4584",
            "_dom_classes": [],
            "description": "Upload",
            "multiple": false,
            "_model_name": "FileUploadModel",
            "data": [
              null
            ],
            "button_style": "",
            "_view_module": "@jupyter-widgets/controls",
            "_model_module_version": "1.5.0",
            "accept": ".json",
            "_view_count": null,
            "disabled": false,
            "_view_module_version": "1.5.0",
            "error": "",
            "description_tooltip": null,
            "metadata": [
              {
                "name": "arduino_data.json",
                "type": "application/json",
                "size": 248179,
                "lastModified": 1592847729132
              }
            ],
            "_model_module": "@jupyter-widgets/controls",
            "layout": "IPY_MODEL_8b13d0e099234a0bbd1a42941b387e5e",
            "icon": "upload"
          }
        },
        "23b354fdc77a4f3f967e89df3cad4584": {
          "model_module": "@jupyter-widgets/controls",
          "model_name": "ButtonStyleModel",
          "model_module_version": "1.5.0",
          "state": {
            "_view_name": "StyleView",
            "_model_name": "ButtonStyleModel",
            "_view_module": "@jupyter-widgets/base",
            "_model_module_version": "1.5.0",
            "_view_count": null,
            "button_color": null,
            "font_weight": "",
            "_view_module_version": "1.2.0",
            "_model_module": "@jupyter-widgets/controls"
          }
        },
        "8b13d0e099234a0bbd1a42941b387e5e": {
          "model_module": "@jupyter-widgets/base",
          "model_name": "LayoutModel",
          "model_module_version": "1.2.0",
          "state": {
            "_view_name": "LayoutView",
            "grid_template_rows": null,
            "right": null,
            "justify_content": null,
            "_view_module": "@jupyter-widgets/base",
            "overflow": null,
            "_model_module_version": "1.2.0",
            "_view_count": null,
            "flex_flow": null,
            "width": null,
            "min_width": null,
            "border": null,
            "align_items": null,
            "bottom": null,
            "_model_module": "@jupyter-widgets/base",
            "top": null,
            "grid_column": null,
            "overflow_y": null,
            "overflow_x": null,
            "grid_auto_flow": null,
            "grid_area": null,
            "grid_template_columns": null,
            "flex": null,
            "_model_name": "LayoutModel",
            "justify_items": null,
            "grid_row": null,
            "max_height": null,
            "align_content": null,
            "visibility": null,
            "align_self": null,
            "height": null,
            "min_height": null,
            "padding": null,
            "grid_auto_rows": null,
            "grid_gap": null,
            "max_width": null,
            "order": null,
            "_view_module_version": "1.2.0",
            "grid_template_areas": null,
            "object_position": null,
            "object_fit": null,
            "grid_auto_columns": null,
            "margin": null,
            "display": null,
            "left": null
          }
        }
      }
    }
  },
  "cells": [
    {
      "cell_type": "markdown",
      "metadata": {
        "id": "view-in-github",
        "colab_type": "text"
      },
      "source": [
        "<a href=\"https://colab.research.google.com/github/atalaydenknalbant/ML-Displacement-Detection/blob/main/TF_Displacement.ipynb\" target=\"_parent\"><img src=\"https://colab.research.google.com/assets/colab-badge.svg\" alt=\"Open In Colab\"/></a>"
      ]
    },
    {
      "cell_type": "markdown",
      "metadata": {
        "id": "4gVXmia8_zUz"
      },
      "source": [
        "# **Dnn Regression For the Predicting Displacement of the Construction**"
      ]
    },
    {
      "cell_type": "markdown",
      "metadata": {
        "id": "GGcnbNkxzFLv"
      },
      "source": [
        "# Importing Libraries"
      ]
    },
    {
      "cell_type": "code",
      "metadata": {
        "id": "zGQbvl9My2iI",
        "colab": {
          "base_uri": "https://localhost:8080/",
          "height": 406
        },
        "outputId": "cd3e2279-725d-4362-dfbf-0ce721eadf2f"
      },
      "source": [
        "import tensorflow as tf\n",
        "import pandas as pd \n",
        "import matplotlib.pyplot as plt\n",
        "import numpy as np\n",
        "!pip install imbalanced-learn\n",
        "!pip install git+https://github.com/tensorflow/docs\n",
        "import tensorflow_docs as tfdocs\n",
        "import tensorflow_docs.plots\n",
        "import tensorflow_docs.modeling\n",
        "\n"
      ],
      "execution_count": null,
      "outputs": [
        {
          "output_type": "stream",
          "text": [
            "Requirement already satisfied: imbalanced-learn in /usr/local/lib/python3.6/dist-packages (0.4.3)\n",
            "Requirement already satisfied: scikit-learn>=0.20 in /usr/local/lib/python3.6/dist-packages (from imbalanced-learn) (0.22.2.post1)\n",
            "Requirement already satisfied: scipy>=0.13.3 in /usr/local/lib/python3.6/dist-packages (from imbalanced-learn) (1.4.1)\n",
            "Requirement already satisfied: numpy>=1.8.2 in /usr/local/lib/python3.6/dist-packages (from imbalanced-learn) (1.18.5)\n",
            "Requirement already satisfied: joblib>=0.11 in /usr/local/lib/python3.6/dist-packages (from scikit-learn>=0.20->imbalanced-learn) (0.15.1)\n",
            "Collecting git+https://github.com/tensorflow/docs\n",
            "  Cloning https://github.com/tensorflow/docs to /tmp/pip-req-build-isaqx_92\n",
            "  Running command git clone -q https://github.com/tensorflow/docs /tmp/pip-req-build-isaqx_92\n",
            "Requirement already satisfied: astor in /usr/local/lib/python3.6/dist-packages (from tensorflow-docs===0.0.01c7f2ed3be65e70f7bcd10a435ef9d1b3c313db4-) (0.8.1)\n",
            "Requirement already satisfied: absl-py in /usr/local/lib/python3.6/dist-packages (from tensorflow-docs===0.0.01c7f2ed3be65e70f7bcd10a435ef9d1b3c313db4-) (0.9.0)\n",
            "Requirement already satisfied: protobuf in /usr/local/lib/python3.6/dist-packages (from tensorflow-docs===0.0.01c7f2ed3be65e70f7bcd10a435ef9d1b3c313db4-) (3.10.0)\n",
            "Requirement already satisfied: pyyaml in /usr/local/lib/python3.6/dist-packages (from tensorflow-docs===0.0.01c7f2ed3be65e70f7bcd10a435ef9d1b3c313db4-) (3.13)\n",
            "Requirement already satisfied: six in /usr/local/lib/python3.6/dist-packages (from absl-py->tensorflow-docs===0.0.01c7f2ed3be65e70f7bcd10a435ef9d1b3c313db4-) (1.12.0)\n",
            "Requirement already satisfied: setuptools in /usr/local/lib/python3.6/dist-packages (from protobuf->tensorflow-docs===0.0.01c7f2ed3be65e70f7bcd10a435ef9d1b3c313db4-) (47.3.1)\n",
            "Building wheels for collected packages: tensorflow-docs\n",
            "  Building wheel for tensorflow-docs (setup.py) ... \u001b[?25l\u001b[?25hdone\n",
            "  Created wheel for tensorflow-docs: filename=tensorflow_docs-0.0.01c7f2ed3be65e70f7bcd10a435ef9d1b3c313db4_-cp36-none-any.whl size=119609 sha256=008439c6db4c2cc44ce65c230a9281a1b968ccdb666aa8c3e27e490176b09ada\n",
            "  Stored in directory: /tmp/pip-ephem-wheel-cache-s9uz4sk1/wheels/eb/1b/35/fce87697be00d2fc63e0b4b395b0d9c7e391a10e98d9a0d97f\n",
            "Successfully built tensorflow-docs\n",
            "Installing collected packages: tensorflow-docs\n",
            "Successfully installed tensorflow-docs-0.0.01c7f2ed3be65e70f7bcd10a435ef9d1b3c313db4-\n"
          ],
          "name": "stdout"
        }
      ]
    },
    {
      "cell_type": "markdown",
      "metadata": {
        "id": "P9xnRbfN-kSv"
      },
      "source": [
        "#Authorizing admin for firebase(Upload Service Key)"
      ]
    },
    {
      "cell_type": "code",
      "metadata": {
        "id": "tKjO8lwM-doS",
        "colab": {
          "base_uri": "https://localhost:8080/",
          "height": 66,
          "referenced_widgets": [
            "83a9123462e24657ac6174b6691a31cb",
            "d65abcb5a9a54360bf66b3a9236f7d85",
            "0d864b0e184c4c58a005b51aae3906ce"
          ]
        },
        "outputId": "ca6cd8d3-dd75-47f7-8922-2334ae2a2940"
      },
      "source": [
        "import ipywidgets\n",
        "\n",
        "uploader = ipywidgets.FileUpload(\n",
        "    accept='.json',\n",
        "    multiple=False\n",
        ")\n",
        "service_acct_file = {}\n",
        "def handle_upload(change):\n",
        "    service_acct_file['name'] = next(iter(change['owner'].value))\n",
        "    service_acct_file['data'] = change['owner'].value[service_acct_file['name']]['content']\n",
        "    with open(service_acct_file['name'], 'wb') as f:\n",
        "        f.write(service_acct_file['data'])\n",
        "    print('Uploaded {}'.format(service_acct_file['name']))\n",
        "uploader.observe(handle_upload, names='data')\n",
        "display(uploader)\n"
      ],
      "execution_count": null,
      "outputs": [
        {
          "output_type": "display_data",
          "data": {
            "application/vnd.jupyter.widget-view+json": {
              "model_id": "83a9123462e24657ac6174b6691a31cb",
              "version_minor": 0,
              "version_major": 2
            },
            "text/plain": [
              "FileUpload(value={}, accept='.json', description='Upload')"
            ]
          },
          "metadata": {
            "tags": []
          }
        },
        {
          "output_type": "stream",
          "text": [
            "Uploaded service_key.json\n"
          ],
          "name": "stdout"
        }
      ]
    },
    {
      "cell_type": "markdown",
      "metadata": {
        "id": "VnSsDYHrwZKo"
      },
      "source": [
        "## Setting Google Credentials Location"
      ]
    },
    {
      "cell_type": "code",
      "metadata": {
        "id": "P12SHghqvRkd"
      },
      "source": [
        "import os\n",
        "os.environ[\"GOOGLE_APPLICATION_CREDENTIALS\"] = os.path.realpath(service_acct_file['name'])"
      ],
      "execution_count": null,
      "outputs": []
    },
    {
      "cell_type": "markdown",
      "metadata": {
        "id": "hCCP56yVwkza"
      },
      "source": [
        "## Initialize Bucket\n"
      ]
    },
    {
      "cell_type": "code",
      "metadata": {
        "id": "KAJG_4hXwo3W",
        "colab": {
          "base_uri": "https://localhost:8080/",
          "height": 34
        },
        "outputId": "4b0c585a-30e6-49c2-9439-77bb3801e64b"
      },
      "source": [
        "#Give a name to storage bucket\n",
        "storage_bucket = input('Storage bucket (no \"gs://capstone-d65e8.appspot.com\"): ')"
      ],
      "execution_count": null,
      "outputs": [
        {
          "output_type": "stream",
          "text": [
            "Storage bucket (no \"gs://capstone-d65e8.appspot.com\"): \n"
          ],
          "name": "stdout"
        }
      ]
    },
    {
      "cell_type": "markdown",
      "metadata": {
        "id": "-21O611FxTHO"
      },
      "source": [
        "## Initiliaze Admin"
      ]
    },
    {
      "cell_type": "code",
      "metadata": {
        "id": "Lr0YQz0Vxcz3"
      },
      "source": [
        "import firebase_admin\n",
        "from firebase_admin import ml\n",
        "try:\n",
        "  firebase_admin.initialize_app(options={'storageBucket': storage_bucket})\n",
        "except ValueError:\n",
        "  print(\"Firebase already initiated\")\n",
        "\n"
      ],
      "execution_count": null,
      "outputs": []
    },
    {
      "cell_type": "markdown",
      "metadata": {
        "id": "FYAj6v4s4kXo"
      },
      "source": [
        "# Importing Json data into Dataframe"
      ]
    },
    {
      "cell_type": "markdown",
      "metadata": {
        "id": "i56RfNUcfF4F"
      },
      "source": [
        "## Vibration Data"
      ]
    },
    {
      "cell_type": "markdown",
      "metadata": {
        "id": "i_FuPqFN8Rdf"
      },
      "source": [
        "##If firestore quota exceeded"
      ]
    },
    {
      "cell_type": "code",
      "metadata": {
        "id": "JDpjAdeQ8KBa",
        "colab": {
          "base_uri": "https://localhost:8080/",
          "height": 49,
          "referenced_widgets": [
            "f4df0ea05d2144d39cdda3953a01733a",
            "5c5245f1554a4e94a71aa9b350964107",
            "e3db6602a76f40d0a6b259faca10b847"
          ]
        },
        "outputId": "5e84e8ef-57c7-484e-9737-b62ee3bb644b"
      },
      "source": [
        "import ipywidgets\n",
        "\n",
        "uploader = ipywidgets.FileUpload(\n",
        "    accept='.csv',\n",
        "    multiple=False\n",
        ")\n",
        "vibration_data = {}\n",
        "def handle_upload(change):\n",
        "    vibration_data['name'] = next(iter(change['owner'].value))\n",
        "    vibration_data['data'] = change['owner'].value[vibration_data['name']]['content']\n",
        "    with open(vibration_data['name'], 'wb') as f:\n",
        "        f.write(vibration_data['data'])\n",
        "    \n",
        "uploader.observe(handle_upload, names='data')\n",
        "display(uploader)\n"
      ],
      "execution_count": null,
      "outputs": [
        {
          "output_type": "display_data",
          "data": {
            "application/vnd.jupyter.widget-view+json": {
              "model_id": "f4df0ea05d2144d39cdda3953a01733a",
              "version_minor": 0,
              "version_major": 2
            },
            "text/plain": [
              "FileUpload(value={}, accept='.csv', description='Upload')"
            ]
          },
          "metadata": {
            "tags": []
          }
        }
      ]
    },
    {
      "cell_type": "code",
      "metadata": {
        "id": "WJzWR20g9M9M",
        "colab": {
          "base_uri": "https://localhost:8080/",
          "height": 195
        },
        "outputId": "95c76385-65cb-4425-e631-51bcc898fd35"
      },
      "source": [
        "df_vibration = pd.read_csv(os.path.realpath(vibration_data['name']))\n",
        "df_vibration.head()"
      ],
      "execution_count": null,
      "outputs": [
        {
          "output_type": "execute_result",
          "data": {
            "text/html": [
              "<div>\n",
              "<style scoped>\n",
              "    .dataframe tbody tr th:only-of-type {\n",
              "        vertical-align: middle;\n",
              "    }\n",
              "\n",
              "    .dataframe tbody tr th {\n",
              "        vertical-align: top;\n",
              "    }\n",
              "\n",
              "    .dataframe thead th {\n",
              "        text-align: right;\n",
              "    }\n",
              "</style>\n",
              "<table border=\"1\" class=\"dataframe\">\n",
              "  <thead>\n",
              "    <tr style=\"text-align: right;\">\n",
              "      <th></th>\n",
              "      <th>Period</th>\n",
              "      <th>UX</th>\n",
              "      <th>UY</th>\n",
              "      <th>UZ</th>\n",
              "      <th>SumUX</th>\n",
              "      <th>SumUY</th>\n",
              "      <th>SumUZ</th>\n",
              "      <th>RX</th>\n",
              "      <th>RY</th>\n",
              "      <th>RZ</th>\n",
              "      <th>SumRX</th>\n",
              "      <th>SumRY</th>\n",
              "      <th>SumRZ</th>\n",
              "    </tr>\n",
              "  </thead>\n",
              "  <tbody>\n",
              "    <tr>\n",
              "      <th>0</th>\n",
              "      <td>2.862372</td>\n",
              "      <td>2.042000e-05</td>\n",
              "      <td>0.000063</td>\n",
              "      <td>0.264390</td>\n",
              "      <td>0.000020</td>\n",
              "      <td>0.000063</td>\n",
              "      <td>0.26439</td>\n",
              "      <td>0.000014</td>\n",
              "      <td>1.774300e-01</td>\n",
              "      <td>7.310000e-09</td>\n",
              "      <td>0.000014</td>\n",
              "      <td>0.17743</td>\n",
              "      <td>7.310000e-09</td>\n",
              "    </tr>\n",
              "    <tr>\n",
              "      <th>1</th>\n",
              "      <td>2.848575</td>\n",
              "      <td>2.225000e-05</td>\n",
              "      <td>0.000049</td>\n",
              "      <td>0.217650</td>\n",
              "      <td>0.000043</td>\n",
              "      <td>0.000110</td>\n",
              "      <td>0.48204</td>\n",
              "      <td>0.000017</td>\n",
              "      <td>2.133100e-01</td>\n",
              "      <td>3.030000e-08</td>\n",
              "      <td>0.000030</td>\n",
              "      <td>0.39074</td>\n",
              "      <td>3.760000e-08</td>\n",
              "    </tr>\n",
              "    <tr>\n",
              "      <th>2</th>\n",
              "      <td>2.291221</td>\n",
              "      <td>8.200000e-10</td>\n",
              "      <td>0.630250</td>\n",
              "      <td>0.000021</td>\n",
              "      <td>0.000043</td>\n",
              "      <td>0.630360</td>\n",
              "      <td>0.48206</td>\n",
              "      <td>0.262770</td>\n",
              "      <td>2.390000e-09</td>\n",
              "      <td>3.550000e-08</td>\n",
              "      <td>0.262810</td>\n",
              "      <td>0.39074</td>\n",
              "      <td>7.320000e-08</td>\n",
              "    </tr>\n",
              "    <tr>\n",
              "      <th>3</th>\n",
              "      <td>1.789684</td>\n",
              "      <td>1.932000e-06</td>\n",
              "      <td>0.000990</td>\n",
              "      <td>0.000280</td>\n",
              "      <td>0.000045</td>\n",
              "      <td>0.631350</td>\n",
              "      <td>0.48234</td>\n",
              "      <td>0.040570</td>\n",
              "      <td>9.300000e-04</td>\n",
              "      <td>1.540000e-08</td>\n",
              "      <td>0.303380</td>\n",
              "      <td>0.39167</td>\n",
              "      <td>8.850000e-08</td>\n",
              "    </tr>\n",
              "    <tr>\n",
              "      <th>4</th>\n",
              "      <td>1.785447</td>\n",
              "      <td>9.730000e-07</td>\n",
              "      <td>0.001910</td>\n",
              "      <td>0.000590</td>\n",
              "      <td>0.000046</td>\n",
              "      <td>0.633260</td>\n",
              "      <td>0.48293</td>\n",
              "      <td>0.075740</td>\n",
              "      <td>4.700000e-04</td>\n",
              "      <td>7.650000e-08</td>\n",
              "      <td>0.379110</td>\n",
              "      <td>0.39214</td>\n",
              "      <td>1.650000e-07</td>\n",
              "    </tr>\n",
              "  </tbody>\n",
              "</table>\n",
              "</div>"
            ],
            "text/plain": [
              "     Period            UX        UY  ...     SumRX    SumRY         SumRZ\n",
              "0  2.862372  2.042000e-05  0.000063  ...  0.000014  0.17743  7.310000e-09\n",
              "1  2.848575  2.225000e-05  0.000049  ...  0.000030  0.39074  3.760000e-08\n",
              "2  2.291221  8.200000e-10  0.630250  ...  0.262810  0.39074  7.320000e-08\n",
              "3  1.789684  1.932000e-06  0.000990  ...  0.303380  0.39167  8.850000e-08\n",
              "4  1.785447  9.730000e-07  0.001910  ...  0.379110  0.39214  1.650000e-07\n",
              "\n",
              "[5 rows x 13 columns]"
            ]
          },
          "metadata": {
            "tags": []
          },
          "execution_count": 92
        }
      ]
    },
    {
      "cell_type": "markdown",
      "metadata": {
        "id": "W7uz0wDYAGZk"
      },
      "source": [
        "##If firestore quota not exceeded"
      ]
    },
    {
      "cell_type": "code",
      "metadata": {
        "id": "nz3k64NF49YK",
        "colab": {
          "base_uri": "https://localhost:8080/",
          "height": 195
        },
        "outputId": "a2ed4b09-cdd4-41d1-a2ad-05ca6029451b"
      },
      "source": [
        "from firebase_admin import firestore\n",
        "db = firestore.client()\n",
        "vibration_data_dict = {}\n",
        "i=1\n",
        "while i<13:\n",
        "  doc_ref = db.collection(u'vibration_data').document(str(i))\n",
        "\n",
        "  doc = doc_ref.get()\n",
        "  vibration_data_dict[i] = doc.to_dict()\n",
        "  i+=1\n",
        "df_vibration = pd.DataFrame.from_dict(vibration_data_dict,orient='index')\n",
        "df_vibration.head()  \n",
        "\n"
      ],
      "execution_count": null,
      "outputs": [
        {
          "output_type": "execute_result",
          "data": {
            "text/html": [
              "<div>\n",
              "<style scoped>\n",
              "    .dataframe tbody tr th:only-of-type {\n",
              "        vertical-align: middle;\n",
              "    }\n",
              "\n",
              "    .dataframe tbody tr th {\n",
              "        vertical-align: top;\n",
              "    }\n",
              "\n",
              "    .dataframe thead th {\n",
              "        text-align: right;\n",
              "    }\n",
              "</style>\n",
              "<table border=\"1\" class=\"dataframe\">\n",
              "  <thead>\n",
              "    <tr style=\"text-align: right;\">\n",
              "      <th></th>\n",
              "      <th>UX</th>\n",
              "      <th>UY</th>\n",
              "      <th>UZ</th>\n",
              "      <th>SumUX</th>\n",
              "      <th>SumUY</th>\n",
              "      <th>SumUZ</th>\n",
              "      <th>RX</th>\n",
              "      <th>RY</th>\n",
              "      <th>RZ</th>\n",
              "      <th>SumRX</th>\n",
              "      <th>SumRY</th>\n",
              "      <th>SumRZ</th>\n",
              "      <th>Period</th>\n",
              "    </tr>\n",
              "  </thead>\n",
              "  <tbody>\n",
              "    <tr>\n",
              "      <th>1</th>\n",
              "      <td>2.042000e-05</td>\n",
              "      <td>0.000063</td>\n",
              "      <td>0.264390</td>\n",
              "      <td>0.000020</td>\n",
              "      <td>0.000063</td>\n",
              "      <td>0.26439</td>\n",
              "      <td>0.000014</td>\n",
              "      <td>1.774300e-01</td>\n",
              "      <td>7.311000e-09</td>\n",
              "      <td>0.000014</td>\n",
              "      <td>0.17743</td>\n",
              "      <td>7.311000e-09</td>\n",
              "      <td>2.862372</td>\n",
              "    </tr>\n",
              "    <tr>\n",
              "      <th>2</th>\n",
              "      <td>2.225000e-05</td>\n",
              "      <td>0.000049</td>\n",
              "      <td>0.217650</td>\n",
              "      <td>0.000043</td>\n",
              "      <td>0.000110</td>\n",
              "      <td>0.48204</td>\n",
              "      <td>0.000017</td>\n",
              "      <td>2.133100e-01</td>\n",
              "      <td>3.033000e-08</td>\n",
              "      <td>0.000030</td>\n",
              "      <td>0.39074</td>\n",
              "      <td>3.764000e-08</td>\n",
              "      <td>2.848575</td>\n",
              "    </tr>\n",
              "    <tr>\n",
              "      <th>3</th>\n",
              "      <td>8.196000e-10</td>\n",
              "      <td>0.630250</td>\n",
              "      <td>0.000021</td>\n",
              "      <td>0.000043</td>\n",
              "      <td>0.630360</td>\n",
              "      <td>0.48206</td>\n",
              "      <td>0.262770</td>\n",
              "      <td>2.391000e-09</td>\n",
              "      <td>3.553000e-08</td>\n",
              "      <td>0.262810</td>\n",
              "      <td>0.39074</td>\n",
              "      <td>7.318000e-08</td>\n",
              "      <td>2.291221</td>\n",
              "    </tr>\n",
              "    <tr>\n",
              "      <th>4</th>\n",
              "      <td>1.932000e-06</td>\n",
              "      <td>0.000990</td>\n",
              "      <td>0.000280</td>\n",
              "      <td>0.000045</td>\n",
              "      <td>0.631350</td>\n",
              "      <td>0.48234</td>\n",
              "      <td>0.040570</td>\n",
              "      <td>9.300000e-04</td>\n",
              "      <td>1.535000e-08</td>\n",
              "      <td>0.303380</td>\n",
              "      <td>0.39167</td>\n",
              "      <td>8.852000e-08</td>\n",
              "      <td>1.789684</td>\n",
              "    </tr>\n",
              "    <tr>\n",
              "      <th>5</th>\n",
              "      <td>9.726000e-07</td>\n",
              "      <td>0.001910</td>\n",
              "      <td>0.000590</td>\n",
              "      <td>0.000046</td>\n",
              "      <td>0.633260</td>\n",
              "      <td>0.48293</td>\n",
              "      <td>0.075740</td>\n",
              "      <td>4.700000e-04</td>\n",
              "      <td>7.652000e-08</td>\n",
              "      <td>0.379110</td>\n",
              "      <td>0.39214</td>\n",
              "      <td>1.650000e-07</td>\n",
              "      <td>1.785447</td>\n",
              "    </tr>\n",
              "  </tbody>\n",
              "</table>\n",
              "</div>"
            ],
            "text/plain": [
              "             UX        UY        UZ  ...    SumRY         SumRZ    Period\n",
              "1  2.042000e-05  0.000063  0.264390  ...  0.17743  7.311000e-09  2.862372\n",
              "2  2.225000e-05  0.000049  0.217650  ...  0.39074  3.764000e-08  2.848575\n",
              "3  8.196000e-10  0.630250  0.000021  ...  0.39074  7.318000e-08  2.291221\n",
              "4  1.932000e-06  0.000990  0.000280  ...  0.39167  8.852000e-08  1.789684\n",
              "5  9.726000e-07  0.001910  0.000590  ...  0.39214  1.650000e-07  1.785447\n",
              "\n",
              "[5 rows x 13 columns]"
            ]
          },
          "metadata": {
            "tags": []
          },
          "execution_count": 29
        }
      ]
    },
    {
      "cell_type": "markdown",
      "metadata": {
        "id": "j-Z1_ZCmfLUI"
      },
      "source": [
        "## Arduino Data"
      ]
    },
    {
      "cell_type": "markdown",
      "metadata": {
        "id": "fSCYdsJQ_jzu"
      },
      "source": [
        "##If firestore  quota exceeded"
      ]
    },
    {
      "cell_type": "code",
      "metadata": {
        "id": "LBcdnGLD-iaY",
        "colab": {
          "base_uri": "https://localhost:8080/",
          "height": 49,
          "referenced_widgets": [
            "d5a60f609ac24a9086abde8955fa3355",
            "23b354fdc77a4f3f967e89df3cad4584",
            "8b13d0e099234a0bbd1a42941b387e5e"
          ]
        },
        "outputId": "e0f801ff-67d4-40e6-b70c-76dfe79872eb"
      },
      "source": [
        "import ipywidgets\n",
        "\n",
        "uploader = ipywidgets.FileUpload(\n",
        "    accept='.json',\n",
        "    multiple=False\n",
        ")\n",
        "arduino_data = {}\n",
        "def handle_upload(change):\n",
        "    arduino_data['name'] = next(iter(change['owner'].value))\n",
        "    arduino_data['data'] = change['owner'].value[arduino_data['name']]['content']\n",
        "    with open(arduino_data['name'], 'wb') as f:\n",
        "        f.write(arduino_data['data'])\n",
        "    \n",
        "uploader.observe(handle_upload, names='data')\n",
        "display(uploader)\n"
      ],
      "execution_count": null,
      "outputs": [
        {
          "output_type": "display_data",
          "data": {
            "application/vnd.jupyter.widget-view+json": {
              "model_id": "d5a60f609ac24a9086abde8955fa3355",
              "version_minor": 0,
              "version_major": 2
            },
            "text/plain": [
              "FileUpload(value={}, accept='.json', description='Upload')"
            ]
          },
          "metadata": {
            "tags": []
          }
        }
      ]
    },
    {
      "cell_type": "code",
      "metadata": {
        "id": "-dxjlC46-iJV",
        "colab": {
          "base_uri": "https://localhost:8080/",
          "height": 195
        },
        "outputId": "361301e2-1ecd-45b1-9f69-aa85c4e0977a"
      },
      "source": [
        "df_arduino = pd.read_json(os.path.realpath(arduino_data['name']))\n",
        "df_arduino.head()"
      ],
      "execution_count": null,
      "outputs": [
        {
          "output_type": "execute_result",
          "data": {
            "text/html": [
              "<div>\n",
              "<style scoped>\n",
              "    .dataframe tbody tr th:only-of-type {\n",
              "        vertical-align: middle;\n",
              "    }\n",
              "\n",
              "    .dataframe tbody tr th {\n",
              "        vertical-align: top;\n",
              "    }\n",
              "\n",
              "    .dataframe thead th {\n",
              "        text-align: right;\n",
              "    }\n",
              "</style>\n",
              "<table border=\"1\" class=\"dataframe\">\n",
              "  <thead>\n",
              "    <tr style=\"text-align: right;\">\n",
              "      <th></th>\n",
              "      <th>Period</th>\n",
              "      <th>UX</th>\n",
              "      <th>UY</th>\n",
              "      <th>UZ</th>\n",
              "      <th>SumUX</th>\n",
              "      <th>SumUY</th>\n",
              "      <th>SumUZ</th>\n",
              "    </tr>\n",
              "  </thead>\n",
              "  <tbody>\n",
              "    <tr>\n",
              "      <th>0</th>\n",
              "      <td>0</td>\n",
              "      <td>26.61</td>\n",
              "      <td>12.84</td>\n",
              "      <td>22.73</td>\n",
              "      <td>391.5</td>\n",
              "      <td>63.0</td>\n",
              "      <td>223.0</td>\n",
              "    </tr>\n",
              "    <tr>\n",
              "      <th>1</th>\n",
              "      <td>140</td>\n",
              "      <td>24.46</td>\n",
              "      <td>11.52</td>\n",
              "      <td>22.73</td>\n",
              "      <td>240.0</td>\n",
              "      <td>56.5</td>\n",
              "      <td>223.0</td>\n",
              "    </tr>\n",
              "    <tr>\n",
              "      <th>2</th>\n",
              "      <td>243</td>\n",
              "      <td>79.10</td>\n",
              "      <td>88.89</td>\n",
              "      <td>74.41</td>\n",
              "      <td>1164.0</td>\n",
              "      <td>872.0</td>\n",
              "      <td>365.0</td>\n",
              "    </tr>\n",
              "    <tr>\n",
              "      <th>3</th>\n",
              "      <td>347</td>\n",
              "      <td>87.67</td>\n",
              "      <td>98.27</td>\n",
              "      <td>83.49</td>\n",
              "      <td>1290.0</td>\n",
              "      <td>964.0</td>\n",
              "      <td>819.0</td>\n",
              "    </tr>\n",
              "    <tr>\n",
              "      <th>4</th>\n",
              "      <td>450</td>\n",
              "      <td>37.82</td>\n",
              "      <td>23.85</td>\n",
              "      <td>40.37</td>\n",
              "      <td>185.5</td>\n",
              "      <td>234.0</td>\n",
              "      <td>396.0</td>\n",
              "    </tr>\n",
              "  </tbody>\n",
              "</table>\n",
              "</div>"
            ],
            "text/plain": [
              "   Period     UX     UY     UZ   SumUX  SumUY  SumUZ\n",
              "0       0  26.61  12.84  22.73   391.5   63.0  223.0\n",
              "1     140  24.46  11.52  22.73   240.0   56.5  223.0\n",
              "2     243  79.10  88.89  74.41  1164.0  872.0  365.0\n",
              "3     347  87.67  98.27  83.49  1290.0  964.0  819.0\n",
              "4     450  37.82  23.85  40.37   185.5  234.0  396.0"
            ]
          },
          "metadata": {
            "tags": []
          },
          "execution_count": 10
        }
      ]
    },
    {
      "cell_type": "markdown",
      "metadata": {
        "id": "zTUhUqL8_oFc"
      },
      "source": [
        "##If firestore quota not exceeded"
      ]
    },
    {
      "cell_type": "code",
      "metadata": {
        "id": "RmpZ2FpeesLg"
      },
      "source": [
        "arduino_data_dict = {}\n",
        "docs = db.collection(u'arduino_data').stream()\n",
        "i=0\n",
        "for doc in docs:\n",
        "    arduino_data_dict[int(doc.id)] = doc.to_dict()\n",
        "    i+=1   \n",
        "df_arduino = pd.DataFrame.from_dict(arduino_data_dict,orient='index')\n"
      ],
      "execution_count": null,
      "outputs": []
    },
    {
      "cell_type": "markdown",
      "metadata": {
        "id": "a_6u610wzG2D"
      },
      "source": [
        "#Pre-processing"
      ]
    },
    {
      "cell_type": "code",
      "metadata": {
        "id": "xXfzH3tmzKdD",
        "colab": {
          "base_uri": "https://localhost:8080/",
          "height": 263
        },
        "outputId": "53a7be88-ea2f-4818-c346-41d93e5ae458"
      },
      "source": [
        "df_vibration.isnull().sum()"
      ],
      "execution_count": null,
      "outputs": [
        {
          "output_type": "execute_result",
          "data": {
            "text/plain": [
              "RX        0\n",
              "RY        0\n",
              "RZ        0\n",
              "SumRX     0\n",
              "SumRY     0\n",
              "SumRZ     0\n",
              "Period    0\n",
              "UX        0\n",
              "UY        0\n",
              "UZ        0\n",
              "SumUX     0\n",
              "SumUY     0\n",
              "SumUZ     0\n",
              "dtype: int64"
            ]
          },
          "metadata": {
            "tags": []
          },
          "execution_count": 16
        }
      ]
    },
    {
      "cell_type": "code",
      "metadata": {
        "id": "VWt7NxATvTXL",
        "colab": {
          "base_uri": "https://localhost:8080/",
          "height": 158
        },
        "outputId": "d1ea16c2-60bc-4d5e-de40-bdc395a6b5c3"
      },
      "source": [
        "df_arduino.isnull().sum()"
      ],
      "execution_count": null,
      "outputs": [
        {
          "output_type": "execute_result",
          "data": {
            "text/plain": [
              "SumUX     0\n",
              "SumUY     0\n",
              "SumUZ     0\n",
              "Period    0\n",
              "UX        0\n",
              "UY        0\n",
              "UZ        0\n",
              "dtype: int64"
            ]
          },
          "metadata": {
            "tags": []
          },
          "execution_count": 17
        }
      ]
    },
    {
      "cell_type": "code",
      "metadata": {
        "id": "Soh5byhnBQpH",
        "colab": {
          "base_uri": "https://localhost:8080/",
          "height": 263
        },
        "outputId": "fa73acf1-8904-4673-e52e-6d9dc74efaca"
      },
      "source": [
        "df_vibration.count()"
      ],
      "execution_count": null,
      "outputs": [
        {
          "output_type": "execute_result",
          "data": {
            "text/plain": [
              "RX        12\n",
              "RY        12\n",
              "RZ        12\n",
              "SumRX     12\n",
              "SumRY     12\n",
              "SumRZ     12\n",
              "Period    12\n",
              "UX        12\n",
              "UY        12\n",
              "UZ        12\n",
              "SumUX     12\n",
              "SumUY     12\n",
              "SumUZ     12\n",
              "dtype: int64"
            ]
          },
          "metadata": {
            "tags": []
          },
          "execution_count": 18
        }
      ]
    },
    {
      "cell_type": "code",
      "metadata": {
        "id": "fJ6rZgX4vp1t",
        "colab": {
          "base_uri": "https://localhost:8080/",
          "height": 158
        },
        "outputId": "0364d027-f8a5-4fe9-8acf-fd9b78fba021"
      },
      "source": [
        "df_arduino.count()"
      ],
      "execution_count": null,
      "outputs": [
        {
          "output_type": "execute_result",
          "data": {
            "text/plain": [
              "SumUX     1300\n",
              "SumUY     1300\n",
              "SumUZ     1300\n",
              "Period    1300\n",
              "UX        1300\n",
              "UY        1300\n",
              "UZ        1300\n",
              "dtype: int64"
            ]
          },
          "metadata": {
            "tags": []
          },
          "execution_count": 19
        }
      ]
    },
    {
      "cell_type": "markdown",
      "metadata": {
        "id": "hzOl7FUn1iiS"
      },
      "source": [
        "#Over Sampling Vibration data"
      ]
    },
    {
      "cell_type": "markdown",
      "metadata": {
        "id": "QrSwanuQX6Il"
      },
      "source": [
        "##Oversampling"
      ]
    },
    {
      "cell_type": "code",
      "metadata": {
        "id": "oyXdFu6pI_sh",
        "colab": {
          "base_uri": "https://localhost:8080/",
          "height": 34
        },
        "outputId": "ad4417b9-aed8-44ab-ebb1-7dcd563780c2"
      },
      "source": [
        "len(df_vibration)"
      ],
      "execution_count": null,
      "outputs": [
        {
          "output_type": "execute_result",
          "data": {
            "text/plain": [
              "12"
            ]
          },
          "metadata": {
            "tags": []
          },
          "execution_count": 93
        }
      ]
    },
    {
      "cell_type": "code",
      "metadata": {
        "id": "yudTq-Eoa7DF"
      },
      "source": [
        "from imblearn.over_sampling import RandomOverSampler\n",
        "\n",
        "oversample = RandomOverSampler(sampling_strategy='all')\n",
        "combined_df = df_vibration"
      ],
      "execution_count": null,
      "outputs": []
    },
    {
      "cell_type": "code",
      "metadata": {
        "id": "KYXoLR_l1hf1"
      },
      "source": [
        "from sklearn.model_selection import train_test_split\n",
        "from collections import Counter\n",
        "\n",
        "for i in range(33):\n",
        "  x_sumux = combined_df.drop(['SumUX'], axis=1)\n",
        "  y_sumux = combined_df['SumUX']\n",
        "  X_train, X_test, y_train, y_test = train_test_split(\n",
        "                                                      x_sumux, y_sumux, \n",
        "                                                      test_size=0.2, \n",
        "                                                      random_state=0)\n",
        "  x_sumux1, y_sumux1 = oversample.fit_resample(X_train,y_train.ravel())\n",
        "  rest_df = pd.DataFrame(data = x_sumux1[len(X_train):-1],\n",
        "                        index = None,\n",
        "                        columns=['Period','UX','UY','UZ',\n",
        "                                  'SumUY','SumUZ','RX','RY','RZ',\n",
        "                                  'SumRX','SumRY','SumRZ'])\n",
        "\n",
        "  sumux_df = pd.DataFrame({'SumUX':y_sumux1[len(y_train):-1]})\n",
        "\n",
        "  combined_df = combined_df.append(rest_df.join(sumux_df),ignore_index=True)\n",
        "df_vibration = combined_df\n"
      ],
      "execution_count": null,
      "outputs": []
    },
    {
      "cell_type": "code",
      "metadata": {
        "id": "zJ0AqHPelREf",
        "colab": {
          "base_uri": "https://localhost:8080/",
          "height": 34
        },
        "outputId": "db83d6b9-dd95-442f-fb5d-e0b94cebbb92"
      },
      "source": [
        "len(df_vibration)"
      ],
      "execution_count": null,
      "outputs": [
        {
          "output_type": "execute_result",
          "data": {
            "text/plain": [
              "1342"
            ]
          },
          "metadata": {
            "tags": []
          },
          "execution_count": 96
        }
      ]
    },
    {
      "cell_type": "markdown",
      "metadata": {
        "id": "ZiDnKa22DXxC"
      },
      "source": [
        "#Visualizing data"
      ]
    },
    {
      "cell_type": "markdown",
      "metadata": {
        "id": "nHReEPBAU6w2"
      },
      "source": [
        "## Correlation Graph"
      ]
    },
    {
      "cell_type": "markdown",
      "metadata": {
        "id": "IMEQZd-wxjRB"
      },
      "source": [
        "## Vibration Data\n"
      ]
    },
    {
      "cell_type": "code",
      "metadata": {
        "id": "dqz9-BANzM9L",
        "colab": {
          "base_uri": "https://localhost:8080/",
          "height": 288
        },
        "outputId": "bf636858-f2fb-43f6-84ae-4c112f5327dd"
      },
      "source": [
        "corr = df_vibration.corr()\n",
        "fig, ax = plt.subplots()\n",
        "\n",
        "\n",
        "im = ax.imshow(corr.values, aspect='auto')\n",
        "\n",
        "\n",
        "ax.set_xticks(np.arange(len(corr.columns)))\n",
        "ax.set_yticks(np.arange(len(corr.columns)))\n",
        "ax.set_xticklabels(corr.columns)\n",
        "ax.set_yticklabels(corr.columns)\n",
        "\n",
        "\n",
        "plt.setp(ax.get_xticklabels(), rotation=45, ha=\"right\",\n",
        "         rotation_mode=\"anchor\")\n",
        "\n",
        "\n",
        "for i in range(len(corr.columns)):\n",
        "    for j in range(len(corr.columns)):\n",
        "        text = ax.text(j, i, np.around(corr.iloc[i, j], decimals=2),\n",
        "                       ha=\"center\", va=\"center\", color=\"black\")"
      ],
      "execution_count": null,
      "outputs": [
        {
          "output_type": "display_data",
          "data": {
            "image/png": "[encoded data removed]",
            "text/plain": [
              "<Figure size 432x288 with 1 Axes>"
            ]
          },
          "metadata": {
            "tags": [],
            "needs_background": "light"
          }
        }
      ]
    },
    {
      "cell_type": "markdown",
      "metadata": {
        "id": "BKDbHZfrxm_x"
      },
      "source": [
        "## Arduino Data"
      ]
    },
    {
      "cell_type": "code",
      "metadata": {
        "id": "r6eKA439xpgy",
        "colab": {
          "base_uri": "https://localhost:8080/",
          "height": 288
        },
        "outputId": "96a1ae95-0641-4662-f311-02d39e546ec1"
      },
      "source": [
        "corr = df_arduino.corr()\n",
        "fig, ax = plt.subplots()\n",
        "\n",
        "\n",
        "im = ax.imshow(corr.values, aspect='auto')\n",
        "\n",
        "\n",
        "ax.set_xticks(np.arange(len(corr.columns)))\n",
        "ax.set_yticks(np.arange(len(corr.columns)))\n",
        "ax.set_xticklabels(corr.columns)\n",
        "ax.set_yticklabels(corr.columns)\n",
        "\n",
        "\n",
        "plt.setp(ax.get_xticklabels(), rotation=45, ha=\"right\",\n",
        "         rotation_mode=\"anchor\")\n",
        "\n",
        "\n",
        "for i in range(len(corr.columns)):\n",
        "    for j in range(len(corr.columns)):\n",
        "        text = ax.text(j, i, np.around(corr.iloc[i, j], decimals=2),\n",
        "                       ha=\"center\", va=\"center\", color=\"black\")"
      ],
      "execution_count": null,
      "outputs": [
        {
          "output_type": "display_data",
          "data": {
            "image/png": "[encoded data removed]",
            "text/plain": [
              "<Figure size 432x288 with 1 Axes>"
            ]
          },
          "metadata": {
            "tags": [],
            "needs_background": "light"
          }
        }
      ]
    },
    {
      "cell_type": "markdown",
      "metadata": {
        "id": "sMItSLjMGnMp"
      },
      "source": [
        "# Defining Input and Target Value(Target value is UX)"
      ]
    },
    {
      "cell_type": "markdown",
      "metadata": {
        "id": "KW2qu3Un4o44"
      },
      "source": [
        "# Splitting dataset into train and test"
      ]
    },
    {
      "cell_type": "code",
      "metadata": {
        "id": "OuF_9TKv4TAG"
      },
      "source": [
        "train_dataset_arduino = df_arduino.sample(frac=0.9,random_state=0)\n",
        "test_dataset_arduino = df_arduino.drop(train_dataset_arduino.index)\n",
        "\n",
        "train_dataset_vibration = df_vibration.sample(frac=0.9,random_state=0)\n",
        "test_dataset_vibration = df_vibration.drop(train_dataset_vibration.index)\n"
      ],
      "execution_count": null,
      "outputs": []
    },
    {
      "cell_type": "code",
      "metadata": {
        "id": "T2T3gE8iG2bD"
      },
      "source": [
        "train_input_vibration = train_dataset_vibration.drop(['UX'], axis=1)\n",
        "train_target_vibration = train_dataset_vibration['UX']\n",
        "test_input_vibration = test_dataset_vibration.drop(['UX'], axis=1)\n",
        "test_target_vibration = test_dataset_vibration['UX']\n",
        "\n",
        "train_input_arduino = train_dataset_arduino.drop(['UX'], axis=1)\n",
        "train_target_arduino = train_dataset_arduino['UX']\n",
        "test_input_arduino = test_dataset_arduino.drop(['UX'], axis=1)\n",
        "test_target_arduino = test_dataset_arduino['UX']"
      ],
      "execution_count": null,
      "outputs": []
    },
    {
      "cell_type": "markdown",
      "metadata": {
        "id": "zyQUG6lHmqz6"
      },
      "source": [
        "# Size of training and test datasets"
      ]
    },
    {
      "cell_type": "code",
      "metadata": {
        "id": "mwPu--PImwVy",
        "colab": {
          "base_uri": "https://localhost:8080/",
          "height": 70
        },
        "outputId": "ece77776-5cfc-4965-d151-5f08a8e585b7"
      },
      "source": [
        "print(\"Vibration Dataset Size: \"+ str(len(df_vibration))+ \n",
        "      \"            Arduino Dataset Size: \" + str(len(df_arduino)))\n",
        "print(\"Vibration Training Dataset Size: \"+ str(len(train_dataset_vibration)) + \n",
        "      \"   Arduino Training Dataset Size: \"+ str(len(train_dataset_arduino)))\n",
        "print(\"Vibration Testing Dataset Size: \"+ str(len(test_dataset_vibration)) + \n",
        "      \"     Arduino Testing Dataset Size: \"+ str(len(test_dataset_arduino)))\n"
      ],
      "execution_count": null,
      "outputs": [
        {
          "output_type": "stream",
          "text": [
            "Vibration Dataset Size: 1342            Arduino Dataset Size: 1300\n",
            "Vibration Training Dataset Size: 1208   Arduino Training Dataset Size: 1170\n",
            "Vibration Testing Dataset Size: 134     Arduino Testing Dataset Size: 130\n"
          ],
          "name": "stdout"
        }
      ]
    },
    {
      "cell_type": "markdown",
      "metadata": {
        "id": "G-yJ7yJ-y3r7"
      },
      "source": [
        "# Creating and Training Model(Download Model if created previously)\n"
      ]
    },
    {
      "cell_type": "markdown",
      "metadata": {
        "id": "FRTQiyijrtnP"
      },
      "source": [
        "## Vibration"
      ]
    },
    {
      "cell_type": "code",
      "metadata": {
        "id": "-EiEBqadzJ-L",
        "colab": {
          "base_uri": "https://localhost:8080/",
          "height": 316
        },
        "outputId": "cb18ba9e-9f0e-487d-d85c-501327064bdd"
      },
      "source": [
        "# firebase_model_get = ml.get_model(model_id)\n",
        "model = tf.keras.Sequential([tf.keras.layers.\n",
        "                             Dense(64,\n",
        "                                   activation=\"relu\", \n",
        "                                   input_shape=\n",
        "                                   [(len(train_input_vibration.keys()))]                      \n",
        "                                                                         ),\n",
        "                                   tf.keras.layers.Dense(64,activation ='relu'),\n",
        "                                   tf.keras.layers.Dense(1),\n",
        "                                                       ])\n",
        "model.compile(loss='mse',\n",
        "                optimizer=tf.keras.optimizers.Adam(\n",
        "    learning_rate=0.01, beta_1=0.9, beta_2=0.99, epsilon=1e-05, amsgrad=False,\n",
        "    name='Adam'),\n",
        "                metrics=['mae', 'mse'])\n",
        "earlyStopping = tf.keras.callbacks.EarlyStopping(monitor='val_loss',\n",
        "                                                 patience=60,\n",
        "                                                 min_delta=0.01)  \n",
        "\n",
        "\n",
        "EPOCHS = 1000\n",
        "model.summary()\n",
        "hst = model.fit(\n",
        "  train_input_vibration, train_target_vibration,\n",
        "  epochs=EPOCHS, validation_split = 0.1, verbose=0,\n",
        "  callbacks=[earlyStopping,tfdocs.modeling.EpochDots()])"
      ],
      "execution_count": null,
      "outputs": [
        {
          "output_type": "stream",
          "text": [
            "Model: \"sequential_13\"\n",
            "_________________________________________________________________\n",
            "Layer (type)                 Output Shape              Param #   \n",
            "=================================================================\n",
            "dense_38 (Dense)             (None, 64)                832       \n",
            "_________________________________________________________________\n",
            "dense_39 (Dense)             (None, 64)                4160      \n",
            "_________________________________________________________________\n",
            "dense_40 (Dense)             (None, 1)                 65        \n",
            "=================================================================\n",
            "Total params: 5,057\n",
            "Trainable params: 5,057\n",
            "Non-trainable params: 0\n",
            "_________________________________________________________________\n",
            "\n",
            "Epoch: 0, loss:0.0282,  mae:0.1062,  mse:0.0282,  val_loss:0.0011,  val_mae:0.0275,  val_mse:0.0011,  \n",
            "............................................................."
          ],
          "name": "stdout"
        }
      ]
    },
    {
      "cell_type": "markdown",
      "metadata": {
        "id": "jyMGSQ58w0kj"
      },
      "source": [
        "## Arduino"
      ]
    },
    {
      "cell_type": "code",
      "metadata": {
        "id": "7pCNy43EuYFB",
        "colab": {
          "base_uri": "https://localhost:8080/",
          "height": 598
        },
        "outputId": "2053d887-8736-4d56-b7da-ce227337f250"
      },
      "source": [
        "# firebase_model_get = ml.get_model(model_id)\n",
        "model_arduino = tf.keras.Sequential([tf.keras.layers.\n",
        "                             Dense(128,\n",
        "                                   activation=\"relu\", \n",
        "                                   input_shape=[(len(train_input_arduino.keys()))], \n",
        "                                 \n",
        "                                 ),\n",
        "                                   tf.keras.layers.Dense(1),\n",
        "                                                       ])\n",
        "model_arduino.compile(loss='mse',\n",
        "                optimizer=tf.keras.optimizers.Adam(\n",
        "    learning_rate=0.01, beta_1=0.9, beta_2=0.99, epsilon=1e-05, amsgrad=False,\n",
        "    name='Adam'),\n",
        "                metrics=['mae', 'mse'])\n",
        "earlyStopping = tf.keras.callbacks.EarlyStopping(monitor='val_loss',\n",
        "                                                 patience=250,\n",
        "                                                 min_delta=0.01)  \n",
        "\n",
        "\n",
        "EPOCHS = 1000\n",
        "model_arduino.summary()\n",
        "hst_arduino = model_arduino.fit(\n",
        "  train_input_arduino, train_target_arduino,\n",
        "  epochs=EPOCHS, validation_split = 0.1, verbose=0,\n",
        "  callbacks=[earlyStopping,tfdocs.modeling.EpochDots()])"
      ],
      "execution_count": null,
      "outputs": [
        {
          "output_type": "stream",
          "text": [
            "Model: \"sequential_1\"\n",
            "_________________________________________________________________\n",
            "Layer (type)                 Output Shape              Param #   \n",
            "=================================================================\n",
            "dense_3 (Dense)              (None, 128)               896       \n",
            "_________________________________________________________________\n",
            "dense_4 (Dense)              (None, 1)                 129       \n",
            "=================================================================\n",
            "Total params: 1,025\n",
            "Trainable params: 1,025\n",
            "Non-trainable params: 0\n",
            "_________________________________________________________________\n",
            "\n",
            "Epoch: 0, loss:17766620.0000,  mae:2949.1743,  mse:17766620.0000,  val_loss:522498.0312,  val_mae:589.6777,  val_mse:522498.0312,  \n",
            "....................................................................................................\n",
            "Epoch: 100, loss:13647.6436,  mae:87.0405,  mse:13647.6436,  val_loss:1553.4092,  val_mae:32.2082,  val_mse:1553.4092,  \n",
            "....................................................................................................\n",
            "Epoch: 200, loss:152.1143,  mae:9.5755,  mse:152.1143,  val_loss:239.3792,  val_mae:12.5358,  val_mse:239.3792,  \n",
            "....................................................................................................\n",
            "Epoch: 300, loss:179.6058,  mae:9.9160,  mse:179.6058,  val_loss:140.1684,  val_mae:9.7792,  val_mse:140.1684,  \n",
            "....................................................................................................\n",
            "Epoch: 400, loss:140.3928,  mae:8.9829,  mse:140.3928,  val_loss:74.3261,  val_mae:6.7637,  val_mse:74.3261,  \n",
            "....................................................................................................\n",
            "Epoch: 500, loss:129.3201,  mae:8.5518,  mse:129.3201,  val_loss:81.5555,  val_mae:6.9826,  val_mse:81.5555,  \n",
            "....................................................................................................\n",
            "Epoch: 600, loss:113.2188,  mae:7.6944,  mse:113.2188,  val_loss:111.7511,  val_mae:8.9969,  val_mse:111.7511,  \n",
            "....................................................................................................\n",
            "Epoch: 700, loss:114.4948,  mae:7.7265,  mse:114.4948,  val_loss:92.1176,  val_mae:8.0770,  val_mse:92.1176,  \n",
            "....................................................................................................\n",
            "Epoch: 800, loss:111.6403,  mae:7.7974,  mse:111.6403,  val_loss:83.3131,  val_mae:7.1877,  val_mse:83.3131,  \n",
            "....................................................................................................\n",
            "Epoch: 900, loss:122.8891,  mae:8.2369,  mse:122.8891,  val_loss:110.2006,  val_mae:8.8480,  val_mse:110.2006,  \n",
            "...................................................................................................."
          ],
          "name": "stdout"
        }
      ]
    },
    {
      "cell_type": "markdown",
      "metadata": {
        "id": "qphZ2NmaOs6Z"
      },
      "source": [
        "#Save models\n"
      ]
    },
    {
      "cell_type": "code",
      "metadata": {
        "id": "NReMLM5fOu6C",
        "colab": {
          "base_uri": "https://localhost:8080/",
          "height": 52
        },
        "outputId": "b6878208-acb9-44be-80c5-cd9d103b7919"
      },
      "source": [
        "model.save('vibration_model') \n",
        "model_arduino.save('arduino_model')"
      ],
      "execution_count": null,
      "outputs": [
        {
          "output_type": "stream",
          "text": [
            "INFO:tensorflow:Assets written to: vibration_model/assets\n",
            "INFO:tensorflow:Assets written to: arduino_model/assets\n"
          ],
          "name": "stdout"
        }
      ]
    },
    {
      "cell_type": "markdown",
      "metadata": {
        "id": "DAE5MGygPmag"
      },
      "source": [
        "#Load Models"
      ]
    },
    {
      "cell_type": "code",
      "metadata": {
        "id": "UbYQ1YW8PoWb"
      },
      "source": [
        "loaded_model = tf.keras.models.load_model('vibration_model')\n",
        "loaded_arduino_model = tf.keras.models.load_model('arduino_model')\n",
        "#model = loaded_model"
      ],
      "execution_count": null,
      "outputs": []
    },
    {
      "cell_type": "markdown",
      "metadata": {
        "id": "7aOkOCidtwlz"
      },
      "source": [
        "#Results"
      ]
    },
    {
      "cell_type": "markdown",
      "metadata": {
        "id": "8PqsRZTdw3-Q"
      },
      "source": [
        "## Vibration"
      ]
    },
    {
      "cell_type": "code",
      "metadata": {
        "id": "KbDqJ0CPw9WS",
        "colab": {
          "base_uri": "https://localhost:8080/",
          "height": 52
        },
        "outputId": "1a6ee7f9-5fe7-4334-d2f1-02e9c053da1e"
      },
      "source": [
        "model.evaluate(test_input_vibration,test_target_vibration)"
      ],
      "execution_count": null,
      "outputs": [
        {
          "output_type": "stream",
          "text": [
            "5/5 [==============================] - 0s 2ms/step - loss: 1.9964e-08 - mae: 1.1863e-04 - mse: 1.9964e-08\n"
          ],
          "name": "stdout"
        },
        {
          "output_type": "execute_result",
          "data": {
            "text/plain": [
              "[1.996427911876708e-08, 0.00011862977407872677, 1.996427911876708e-08]"
            ]
          },
          "metadata": {
            "tags": []
          },
          "execution_count": 166
        }
      ]
    },
    {
      "cell_type": "code",
      "metadata": {
        "id": "v_dgw70tvBzk",
        "colab": {
          "base_uri": "https://localhost:8080/",
          "height": 52
        },
        "outputId": "cc9b47bb-2fdd-4e18-9ab8-461ae626c970"
      },
      "source": [
        "pred = model.predict(test_input_vibration).flatten()\n",
        "mse = tf.keras.metrics.MeanSquaredError()\n",
        "mse.update_state(test_target_vibration,pred)\n",
        "print('Mean Squared Error')\n",
        "mse.result().numpy().round(8)"
      ],
      "execution_count": null,
      "outputs": [
        {
          "output_type": "stream",
          "text": [
            "Mean Squared Error\n"
          ],
          "name": "stdout"
        },
        {
          "output_type": "execute_result",
          "data": {
            "text/plain": [
              "2e-08"
            ]
          },
          "metadata": {
            "tags": []
          },
          "execution_count": 167
        }
      ]
    },
    {
      "cell_type": "markdown",
      "metadata": {
        "id": "y8oe2sVNw8gE"
      },
      "source": [
        "## Arduino"
      ]
    },
    {
      "cell_type": "code",
      "metadata": {
        "id": "QmwHgy3MxNSB",
        "colab": {
          "base_uri": "https://localhost:8080/",
          "height": 52
        },
        "outputId": "54d5598f-9bb1-4bd7-c7cb-9ba111c300ca"
      },
      "source": [
        "model_arduino.evaluate(test_input_arduino,test_target_arduino)"
      ],
      "execution_count": null,
      "outputs": [
        {
          "output_type": "stream",
          "text": [
            "5/5 [==============================] - 0s 2ms/step - loss: 97.5233 - mae: 7.1955 - mse: 97.5233\n"
          ],
          "name": "stdout"
        },
        {
          "output_type": "execute_result",
          "data": {
            "text/plain": [
              "[97.52330780029297, 7.195464134216309, 97.52330780029297]"
            ]
          },
          "metadata": {
            "tags": []
          },
          "execution_count": 149
        }
      ]
    },
    {
      "cell_type": "code",
      "metadata": {
        "id": "_BHZYFn3xOTs",
        "colab": {
          "base_uri": "https://localhost:8080/",
          "height": 52
        },
        "outputId": "a3c9faf6-79a4-4aa7-f78a-cde89e590597"
      },
      "source": [
        "pred_arduino = model_arduino.predict(test_input_arduino).flatten()\n",
        "mse_arduino = tf.keras.metrics.MeanSquaredError()\n",
        "mse_arduino.update_state(test_target_arduino,pred_arduino)\n",
        "print('Mean Squared Error')\n",
        "mse_arduino.result().numpy()"
      ],
      "execution_count": null,
      "outputs": [
        {
          "output_type": "stream",
          "text": [
            "Mean Squared Error\n"
          ],
          "name": "stdout"
        },
        {
          "output_type": "execute_result",
          "data": {
            "text/plain": [
              "97.52331"
            ]
          },
          "metadata": {
            "tags": []
          },
          "execution_count": 150
        }
      ]
    },
    {
      "cell_type": "markdown",
      "metadata": {
        "id": "AWNYXbEJxqJX"
      },
      "source": [
        "#Plotting Results"
      ]
    },
    {
      "cell_type": "markdown",
      "metadata": {
        "id": "JIRhTVlL8hCV"
      },
      "source": [
        "#Predicting UX"
      ]
    },
    {
      "cell_type": "markdown",
      "metadata": {
        "id": "JOCRt0Rxz9lN"
      },
      "source": [
        "## Vibration"
      ]
    },
    {
      "cell_type": "code",
      "metadata": {
        "id": "ehNekismV9YD",
        "colab": {
          "base_uri": "https://localhost:8080/",
          "height": 158
        },
        "outputId": "1ef1b8b0-94d4-49b9-aafe-679596da2c2f"
      },
      "source": [
        "pred = model.predict(test_input_vibration).flatten()\n",
        "i = 0\n",
        "for e in zip(test_target_vibration, pred):\n",
        "  print(\" Actual\"+\"    Predict\")\n",
        "  print(e)\n",
        "  i+=1\n",
        "  if i == 4:\n",
        "    break"
      ],
      "execution_count": null,
      "outputs": [
        {
          "output_type": "stream",
          "text": [
            " Actual    Predict\n",
            "(0.00033999999999999997, 0.00017634965)\n",
            " Actual    Predict\n",
            "(1.932e-06, 0.00022650417)\n",
            " Actual    Predict\n",
            "(3.997e-06, 0.00018888828)\n",
            " Actual    Predict\n",
            "(2.225e-05, 2.5939662e-05)\n"
          ],
          "name": "stdout"
        }
      ]
    },
    {
      "cell_type": "markdown",
      "metadata": {
        "id": "qH_x12FN0HBx"
      },
      "source": [
        "## Arduino"
      ]
    },
    {
      "cell_type": "code",
      "metadata": {
        "id": "8XtT2fkd0MTX",
        "colab": {
          "base_uri": "https://localhost:8080/",
          "height": 334
        },
        "outputId": "dd5f4d12-ada9-41bf-f1c6-7a50ba380418"
      },
      "source": [
        "pred_arduino = model_arduino.predict(test_input_arduino).flatten()\n",
        "i = 0\n",
        "for e in zip(test_target_arduino.round(5), pred_arduino):\n",
        "  print(\" Actual\"+\"    Predict\")\n",
        "  print(e)\n",
        "  i+=1\n",
        "  if i == 9:\n",
        "    break"
      ],
      "execution_count": null,
      "outputs": [
        {
          "output_type": "stream",
          "text": [
            " Actual    Predict\n",
            "(29.05, 20.493252)\n",
            " Actual    Predict\n",
            "(48.52, 49.477318)\n",
            " Actual    Predict\n",
            "(32.11, 29.550175)\n",
            " Actual    Predict\n",
            "(31.7, 43.594883)\n",
            " Actual    Predict\n",
            "(47.91, 37.04197)\n",
            " Actual    Predict\n",
            "(35.27, 28.960003)\n",
            " Actual    Predict\n",
            "(44.55, 41.776257)\n",
            " Actual    Predict\n",
            "(62.79, 57.08872)\n",
            " Actual    Predict\n",
            "(23.65, 22.337658)\n"
          ],
          "name": "stdout"
        }
      ]
    },
    {
      "cell_type": "markdown",
      "metadata": {
        "id": "YRtxytmaZKA8"
      },
      "source": [
        "#Visualizing Results"
      ]
    },
    {
      "cell_type": "markdown",
      "metadata": {
        "id": "iWXZfaub0SCR"
      },
      "source": [
        "## Vibration"
      ]
    },
    {
      "cell_type": "code",
      "metadata": {
        "id": "xgmuLJ_OUkIY",
        "colab": {
          "base_uri": "https://localhost:8080/",
          "height": 283
        },
        "outputId": "36cc24e8-9b70-418a-a526-58d3d1c38291"
      },
      "source": [
        "a = plt.axes(aspect='equal')\n",
        "plt.scatter(test_target_vibration, pred)\n",
        "plt.xlabel('True Values [UX]')\n",
        "plt.ylabel('Predictions [UX]')\n",
        "lims = [0.0250, -0.01]\n",
        "plt.xlim(lims)\n",
        "plt.ylim(lims)\n",
        "_ = plt.plot(lims, lims)"
      ],
      "execution_count": null,
      "outputs": [
        {
          "output_type": "display_data",
          "data": {
            "image/png": "[encoded data removed]",
            "text/plain": [
              "<Figure size 432x288 with 1 Axes>"
            ]
          },
          "metadata": {
            "tags": [],
            "needs_background": "light"
          }
        }
      ]
    },
    {
      "cell_type": "markdown",
      "metadata": {
        "id": "Mp5rwKjd0c8G"
      },
      "source": [
        "##Arduino"
      ]
    },
    {
      "cell_type": "code",
      "metadata": {
        "id": "mWSEd2XV0gEs",
        "colab": {
          "base_uri": "https://localhost:8080/",
          "height": 283
        },
        "outputId": "5af69fd0-e7f0-488e-ad64-3e9325c8d21f"
      },
      "source": [
        "a = plt.axes(aspect='equal')\n",
        "plt.scatter(test_target_arduino, pred_arduino)\n",
        "plt.xlabel('True Values [UX]')\n",
        "plt.ylabel('Predictions [UX]')\n",
        "lims = [0, 90]\n",
        "plt.xlim(lims)\n",
        "plt.ylim(lims)\n",
        "_arduino = plt.plot(lims, lims)"
      ],
      "execution_count": null,
      "outputs": [
        {
          "output_type": "display_data",
          "data": {
            "image/png": "[encoded data removed]",
            "text/plain": [
              "<Figure size 432x288 with 1 Axes>"
            ]
          },
          "metadata": {
            "tags": [],
            "needs_background": "light"
          }
        }
      ]
    },
    {
      "cell_type": "markdown",
      "metadata": {
        "id": "ZxqsApm_0iyv"
      },
      "source": [
        "##Vibration"
      ]
    },
    {
      "cell_type": "code",
      "metadata": {
        "id": "4Y9cbc-WZRXP",
        "colab": {
          "base_uri": "https://localhost:8080/",
          "height": 174
        },
        "outputId": "1b3d0693-1fd4-443a-bd5b-db401f15632c"
      },
      "source": [
        "pred_train = model.predict(train_input_vibration).flatten()\n",
        "pred_test =  model.predict(test_input_vibration).flatten()\n",
        "plt.figure(figsize=(5,2))\n",
        "\n",
        "plt.scatter(\n",
        "  pred_train,pred_train - train_target_vibration,\n",
        "          c = 'blue', marker = 'o', s = 35, alpha = 0.5,\n",
        "          label = 'Train data')\n",
        "plt.scatter(pred_test,pred_test - test_target_vibration,\n",
        "          c = 'magenta', marker = 'o', s = 35, alpha = 0.7,\n",
        "          label = 'Test data')\n",
        "\n",
        "plt.hlines(y = 0, xmin = -0.01, xmax = 0.0250, lw = 2, color = 'black')\n",
        "plt.legend(loc = 'upper left')"
      ],
      "execution_count": null,
      "outputs": [
        {
          "output_type": "execute_result",
          "data": {
            "text/plain": [
              "<matplotlib.legend.Legend at 0x7f74c73dca58>"
            ]
          },
          "metadata": {
            "tags": []
          },
          "execution_count": 195
        },
        {
          "output_type": "display_data",
          "data": {
            "image/png": "[encoded data removed]",
            "text/plain": [
              "<Figure size 360x144 with 1 Axes>"
            ]
          },
          "metadata": {
            "tags": [],
            "needs_background": "light"
          }
        }
      ]
    },
    {
      "cell_type": "markdown",
      "metadata": {
        "id": "o8oPkofu0oJN"
      },
      "source": [
        "## Arduino"
      ]
    },
    {
      "cell_type": "code",
      "metadata": {
        "id": "st8FLF7-0ptc",
        "colab": {
          "base_uri": "https://localhost:8080/",
          "height": 177
        },
        "outputId": "70d44b14-8771-4c73-c977-803c7fe6cbaf"
      },
      "source": [
        "pred_train_arduino = model_arduino.predict(train_input_arduino).flatten()\n",
        "pred_test_arduino =  model_arduino.predict(test_input_arduino).flatten()\n",
        "plt.figure(figsize=(5,2))\n",
        "\n",
        "plt.scatter(\n",
        "  pred_train_arduino,pred_train_arduino - train_target_arduino,\n",
        "          c = 'royalblue', marker = 'o', s = 35, alpha = 0.5,\n",
        "          label = 'Train data')\n",
        "plt.scatter(pred_test_arduino,pred_test_arduino - test_target_arduino,\n",
        "          c = 'magenta', marker = 'o', s = 35, alpha = 0.7,\n",
        "          label = 'Test data')\n",
        "\n",
        "plt.hlines(y = 0, xmin = 0, xmax = 100, lw = 2, color = 'black')\n",
        "plt.legend(loc = 'upper left')"
      ],
      "execution_count": null,
      "outputs": [
        {
          "output_type": "execute_result",
          "data": {
            "text/plain": [
              "<matplotlib.legend.Legend at 0x7f74c726a550>"
            ]
          },
          "metadata": {
            "tags": []
          },
          "execution_count": 201
        },
        {
          "output_type": "display_data",
          "data": {
            "image/png": "[encoded data removed]",
            "text/plain": [
              "<Figure size 360x144 with 1 Axes>"
            ]
          },
          "metadata": {
            "tags": [],
            "needs_background": "light"
          }
        }
      ]
    },
    {
      "cell_type": "markdown",
      "metadata": {
        "id": "Izdj9mQg0zrN"
      },
      "source": [
        "#Conclusion"
      ]
    },
    {
      "cell_type": "markdown",
      "metadata": {
        "id": "KDhK7BrY01rc"
      },
      "source": [
        "**Since Mean Squared Error is our main comparison parameter, \n",
        "                  vibration data model performed better** "
      ]
    }
  ]
}